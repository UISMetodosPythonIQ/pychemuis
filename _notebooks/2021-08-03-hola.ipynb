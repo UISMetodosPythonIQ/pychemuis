{
  "nbformat": 4,
  "nbformat_minor": 0,
  "metadata": {
    "colab": {
      "provenance": [],
      "collapsed_sections": []
    },
    "kernelspec": {
      "name": "python3",
      "display_name": "Python 3"
    },
    "language_info": {
      "name": "python"
    }
  },
  "cells": [
    {
      "cell_type": "markdown",
      "source": [
        "# hola\n",
        "> Aprende hola\n",
        "\n",
        "- toc: true \n",
        "- badges: true\n",
        "- comments: false\n"
      ],
      "metadata": {
        "id": "E9H9uRQuFvke"
      }
    },
    {
      "cell_type": "markdown",
      "source": [
        "El método de Newton-Cotes es el método más sencillo. Sin embargo, hay algoritmos más sofisticados que utilizan el método del trapecio para generar estimaciones más precisas. Estos son:\n",
        "\n",
        "*   Regla multiple trapezoidal (np.trapz)\n",
        "*   Extrapolación de Richardson\n",
        "* La integración de Romberg\n",
        "\n",
        "**Regla multiple trapezoidal**\n",
        "\n",
        "INSERTAR GRÁFICA\n",
        "\n",
        "$f(x) \\approx  P_2(X)$ (está en rojo en la gráfica)\n",
        "\n",
        "Cada ounto se proyecta en e eje de la x formando un trapecios.\n",
        "\n",
        "$I=\\frac{h}{2} [f(x_0)+f(x_0+h)]+\\frac{h}{2} [f(x_0+h)+f(x_0+2h)]+\\frac{h}{2} [f(x_0+2h)+f(x_0+3h)]+...+\\frac{h}{2} [f(x_0+(n-1)h)+f(x_0+(n)h)]$ \n",
        "\n",
        "**RMT** $I=\\frac{h}{2} [f(x_0)+(2\\sum _{i=1} ^{n-1}f(x_i))+f(x_n)]$\n",
        "\n",
        "h de la función es diferente a la base "
      ],
      "metadata": {
        "id": "_tL0Qq-8XdxK"
      }
    },
    {
      "cell_type": "markdown",
      "source": [
        "Ejemplo de aplicación de la regla trapezoidal múltiple:\n",
        "\n",
        "$I=\\int_0 ^{1/2} cos \\pi dx$"
      ],
      "metadata": {
        "id": "HkEJx0gEdxMF"
      }
    },
    {
      "cell_type": "code",
      "execution_count": null,
      "metadata": {
        "id": "IEu3a8PXXS5z"
      },
      "outputs": [],
      "source": [
        "import numpy as np\n",
        "\n",
        "def getf(x):\n",
        "   return np.cos(np.pi*x)"
      ]
    },
    {
      "cell_type": "code",
      "source": [
        "def Int_mult_trapz(a,b,n):\n",
        "  x=np.linspace(a,b,n)\n",
        "  I=getf(a)+getf(b) #suma el valor de los extremos (x_0 y x_n)\n",
        "  for i in range(1,n):\n",
        "    I=I+2*getf(x[i])\n",
        "  return ((b-a)*I/(2*n))"
      ],
      "metadata": {
        "id": "7k23MmsZeDeI"
      },
      "execution_count": null,
      "outputs": []
    },
    {
      "cell_type": "code",
      "source": [
        "Int_mult_trapz(0,0.5,100)"
      ],
      "metadata": {
        "colab": {
          "base_uri": "https://localhost:8080/"
        },
        "id": "Aw5wMVYXfmdM",
        "outputId": "7e4b937b-3f40-4688-eaa4-bcd8302ce6d2"
      },
      "execution_count": null,
      "outputs": [
        {
          "output_type": "execute_result",
          "data": {
            "text/plain": [
              "0.315120176198562"
            ]
          },
          "metadata": {},
          "execution_count": 10
        }
      ]
    },
    {
      "cell_type": "code",
      "source": [
        "1/np.pi"
      ],
      "metadata": {
        "colab": {
          "base_uri": "https://localhost:8080/"
        },
        "id": "EeBTN-iyeDjq",
        "outputId": "b3098ba3-0d17-454d-a0f9-2450173b024d"
      },
      "execution_count": null,
      "outputs": [
        {
          "output_type": "execute_result",
          "data": {
            "text/plain": [
              "0.3183098861837907"
            ]
          },
          "metadata": {},
          "execution_count": 7
        }
      ]
    },
    {
      "cell_type": "code",
      "source": [
        "error=np.abs(Int_mult_trapz(0,0.5,100)-1/np.pi)*100/(1/np.pi)\n",
        "error"
      ],
      "metadata": {
        "colab": {
          "base_uri": "https://localhost:8080/"
        },
        "id": "gxVdoc9Mf5sy",
        "outputId": "3876e4da-9847-491e-c7a8-a93b65001023"
      },
      "execution_count": null,
      "outputs": [
        {
          "output_type": "execute_result",
          "data": {
            "text/plain": [
              "1.0020769456676544"
            ]
          },
          "metadata": {},
          "execution_count": 11
        }
      ]
    },
    {
      "cell_type": "markdown",
      "source": [
        "**Hacer gráfica de Log(error) vs log(#trapecios)**"
      ],
      "metadata": {
        "id": "ox3kkjFlgnC3"
      }
    },
    {
      "cell_type": "markdown",
      "source": [
        "#Cuadratura de Gauss"
      ],
      "metadata": {
        "id": "TSTelQ2yipwh"
      }
    },
    {
      "cell_type": "markdown",
      "source": [
        "Disminuir el error cambiando la localización de los puntos de integración en la función. Se realiza un cambio de variable, se pasa de la dimensión de x a una dimensión z hipotética.\n",
        "\n",
        "PONER GRÁFICAS\n",
        "\n",
        "$A_T=\\frac{h}{2}(f(a)+f(b)$\n",
        "\n",
        "$A_T=w_1(f(a)+w_2f(b) \\hspace{3cm} A_T=w_1f(z_1)+w_2f(z_2)$\n",
        "\n",
        "$w_1=w_2=\\frac{h}{2}$\n",
        "\n",
        "Se intercambia el intervalo entre a y b por uno entre -1 y 1, encontrando un trapecio que pase por la función y la aproxime el área bajo la curva de la función. Se ajustan los primeros 4 polinomios al intervalo \n",
        "\n",
        "$f(z)=1$ $\\hspace{1.2cm}\\int_{-1}^1 1 dz=2 \\hspace{1.4cm}2=w_1+w_2$\n",
        "\n",
        "$f(z)=z$ $\\hspace{1.2cm}\\int_{-1}^1 z dz=0 \\hspace{1.4cm}0=w_1z_1+w_2z_2$\n",
        "\n",
        "$f(z)=z^2$ $\\hspace{1cm}\\int_{-1}^1 z^2 dz=\\frac{2}{3} \\hspace{1cm}\\frac{2}{3}=w_1z_1^2+w_2z_2^2$\n",
        "\n",
        "$f(z)=z^3$ $\\hspace{1cm}\\int_{-1}^1 z^3 dz=0 \\hspace{1.2cm}0=w_1z_1^3+w_2z_2^3$\n",
        "\n",
        "Resolviendo el sistema de ecuaciones:\n",
        "\n",
        "$z_1=\\frac{-1}{\\sqrt3} \\hspace{1cm} z_2=\\frac{1}{\\sqrt3} $\n",
        "\n",
        "Por lo que el área bajo la curva estaría dada por:\n",
        "\n",
        "$A_T=f_z(\\frac{-1}{\\sqrt3})+f_z(\\frac{1}{\\sqrt3})$\n",
        "\n",
        "$x=\\frac{(b+a)+(b-a)z}{2}$\n",
        "\n",
        "$dx=\\frac{b-a}{2}dz$\n",
        "\n",
        "$I=\\int_a ^b f(x)dx=\\frac{b-a}{2}\\int_{-1}^1 f_z(z)dz$\n",
        "\n",
        "\n",
        "\n",
        "\n",
        "\n"
      ],
      "metadata": {
        "id": "-C5RgJsritx9"
      }
    },
    {
      "cell_type": "markdown",
      "source": [
        "Los puntos y los pesos de Gauss para cuadraturas de tres-puntos, cuatro-puntos y cinco-puntos en el intervalo $x ϵ [−1,1]$.\n",
        "\n",
        "![Captura de pantalla 2022-08-12 103221.png](data:image/png;base64,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)"
      ],
      "metadata": {
        "id": "bM9fxWvOqKQQ"
      }
    },
    {
      "cell_type": "markdown",
      "source": [
        "**Ejemplo de aplicación de la cuadratura de Gauss**\n",
        "\n",
        "Implemente la cuadratura de Gauss para calcular la integral:\n",
        "\n",
        "$I=(m+1)\\int_0 ^1 x^m dx$\n",
        "\n",
        "$I=1$  para cualquier m entero positivo"
      ],
      "metadata": {
        "id": "IaRbgWbhsK6B"
      }
    },
    {
      "cell_type": "code",
      "source": [
        "import numpy as np"
      ],
      "metadata": {
        "id": "O8eSmnB1tD9O"
      },
      "execution_count": null,
      "outputs": []
    },
    {
      "cell_type": "code",
      "source": [
        "def getf(x,m):\n",
        "  I=(m+1)*x**m\n",
        "  return I"
      ],
      "metadata": {
        "id": "vzE7NUuOtSHt"
      },
      "execution_count": null,
      "outputs": []
    },
    {
      "cell_type": "code",
      "source": [
        "def integrate_gauss(xmin,xmax,n,m):\n",
        "# xmin = lower bound for integral\n",
        "# xmax = upper bound for integral\n",
        "# n = order of Gauss quadrature\n",
        "  if n==2:\n",
        "    w = np.array([1, 1])\n",
        "    x = np.array([-1/np.sqrt(3), 1/np.sqrt(3)])\n",
        "  if n==3:\n",
        "    w = np.array([5/9, 8/9, 5/9])\n",
        "    x = np.array([-np.sqrt(3/5), 0, np.sqrt(3/5)])\n",
        "  if n==4:\n",
        "    a = np.sqrt(30)/36\n",
        "    b = (2/7)*np.sqrt(6/5)\n",
        "    c = np.sqrt(3/7 - b)\n",
        "    d = np.sqrt(3/7 + b)\n",
        "    w = np.array([0.5 + a, 0.5 + a, 0.5 - a, 0.5 - a])\n",
        "    x = np.array([c, -c, d, -d])\n",
        "  if n==5:\n",
        "    a = 322/900\n",
        "    b = 13*np.sqrt(70)/900\n",
        "    c = 2*np.sqrt(10/7)\n",
        "    d = np.sqrt(5 - c)/3\n",
        "    e = np.sqrt(5 + c)/3\n",
        "    w = np.array([128/225, a + b, a + b, a - b, a - b])\n",
        "    x = ([0, d, -d, e, -e])\n",
        "  if n<1 or n>5:\n",
        "    print('Value of n is not valid')\n",
        "    x = 0\n",
        "    w = 0\n",
        "\n",
        "  y=np.zeros(len(x))#cambio de variable\n",
        "  for i in range (0,n):\n",
        "    y[i] = ((xmax + xmin) + (xmax - xmin)*x[i])/2\n",
        "  I = 0\n",
        "  for i in range (0,n):\n",
        "    I = I + w[i]*getf(y[i],m)\n",
        "  return (xmax-xmin)*I/2"
      ],
      "metadata": {
        "id": "3Ssm2VDFs_GN"
      },
      "execution_count": null,
      "outputs": []
    },
    {
      "cell_type": "code",
      "source": [
        "integrate_gauss(0,1,2,1)"
      ],
      "metadata": {
        "colab": {
          "base_uri": "https://localhost:8080/"
        },
        "id": "xfH2mTI3uLt2",
        "outputId": "e891ee81-accd-4205-80ea-0a66cd5424f2"
      },
      "execution_count": null,
      "outputs": [
        {
          "output_type": "execute_result",
          "data": {
            "text/plain": [
              "1.0"
            ]
          },
          "metadata": {},
          "execution_count": 8
        }
      ]
    },
    {
      "cell_type": "code",
      "source": [
        "integrate_gauss(0,1,2,3)"
      ],
      "metadata": {
        "colab": {
          "base_uri": "https://localhost:8080/"
        },
        "id": "ELAu5whWuzuL",
        "outputId": "c4a7bc45-6342-4db5-e229-5aebbadf6ff6"
      },
      "execution_count": null,
      "outputs": [
        {
          "output_type": "execute_result",
          "data": {
            "text/plain": [
              "0.9999999999999999"
            ]
          },
          "metadata": {},
          "execution_count": 10
        }
      ]
    },
    {
      "cell_type": "code",
      "source": [
        "integrate_gauss(0,1,2,4)"
      ],
      "metadata": {
        "colab": {
          "base_uri": "https://localhost:8080/"
        },
        "id": "NPMj678XuxkN",
        "outputId": "f47f9163-0490-42d7-89dc-8b60495046ad"
      },
      "execution_count": null,
      "outputs": [
        {
          "output_type": "execute_result",
          "data": {
            "text/plain": [
              "0.9722222222222222"
            ]
          },
          "metadata": {},
          "execution_count": 11
        }
      ]
    },
    {
      "cell_type": "code",
      "source": [
        "from tabulate import tabulate\n",
        "\n",
        "n=range(2,6)\n",
        "m=range(1,6)\n",
        "d=np.zeros([5,5])\n",
        "e=np.zeros([5,5])\n",
        "\n",
        "for i in n:\n",
        "  for j in m:\n",
        "    c=integrate_gauss(0,1,i,j)\n",
        "\n",
        "    d[(i-1),(j-1)]=c\n",
        "\n",
        "head=['m=1','m=2','m=3','m=4','m=5']\n",
        "index=['n=1','n=2','n=3','n=4','n=5']\n",
        "\n",
        "print(\"Tabla de aproximaciones de la integral\")\n",
        "print(tabulate(d,headers=head,showindex=index,numalign='center'))"
      ],
      "metadata": {
        "colab": {
          "base_uri": "https://localhost:8080/"
        },
        "id": "Pe7F7EdXv-c7",
        "outputId": "181fd93d-34b7-468a-bffd-21b8015e5508"
      },
      "execution_count": null,
      "outputs": [
        {
          "output_type": "stream",
          "name": "stdout",
          "text": [
            "Tabla de aproximaciones de la integral\n",
            "      m=1    m=2    m=3     m=4       m=5\n",
            "---  -----  -----  -----  --------  --------\n",
            "n=1    0      0      0       0         0\n",
            "n=2    1      1      1    0.972222  0.916667\n",
            "n=3    1      1      1       1         1\n",
            "n=4    1      1      1       1         1\n",
            "n=5    1      1      1       1         1\n"
          ]
        }
      ]
    },
    {
      "cell_type": "code",
      "source": [
        "from scipy import integrate\n",
        "m=5\n",
        "f=lambda x: (m+1)*x**m\n",
        "integrate.quadrature(f,0.0,1.0)"
      ],
      "metadata": {
        "colab": {
          "base_uri": "https://localhost:8080/"
        },
        "id": "EKJ3htguyqNs",
        "outputId": "dc1244c2-6d2d-43e6-b5ab-9ec8fcf08aaa"
      },
      "execution_count": null,
      "outputs": [
        {
          "output_type": "execute_result",
          "data": {
            "text/plain": [
              "(0.9999999999999998, 4.440892098500626e-16)"
            ]
          },
          "metadata": {},
          "execution_count": 19
        }
      ]
    }
  ]
}